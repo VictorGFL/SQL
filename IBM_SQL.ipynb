{
  "nbformat": 4,
  "nbformat_minor": 0,
  "metadata": {
    "colab": {
      "provenance": [],
      "authorship_tag": "ABX9TyNL8OnzcsIohHcO3BINvHXm",
      "include_colab_link": true
    },
    "kernelspec": {
      "name": "python3",
      "display_name": "Python 3"
    },
    "language_info": {
      "name": "python"
    }
  },
  "cells": [
    {
      "cell_type": "markdown",
      "metadata": {
        "id": "view-in-github",
        "colab_type": "text"
      },
      "source": [
        "<a href=\"https://colab.research.google.com/github/VictorGFL/SQL/blob/main/IBM_SQL.ipynb\" target=\"_parent\"><img src=\"https://colab.research.google.com/assets/colab-badge.svg\" alt=\"Open In Colab\"/></a>"
      ]
    },
    {
      "cell_type": "code",
      "execution_count": null,
      "metadata": {
        "id": "NIzpNatBiWod"
      },
      "outputs": [],
      "source": [
        "# Instale as bibliotecas para uso\n",
        "!pip install --force-reinstall ibm_db==3.1.0 ibm_db_sa==0.3.3\n",
        "!pip uninstall sqlalchemy==1.4 -y && pip install sqlalchemy==1.3.24\n",
        "!pip install ipython-sql"
      ]
    },
    {
      "cell_type": "code",
      "source": [
        "# Carregue o banco de dados\n",
        "%load_ext sql\n",
        "%sql ibm_db_sa://my-username:my-password@my-hostname:my-port/my-db-name?security=SSL"
      ],
      "metadata": {
        "id": "amyVSM9Ti6Gm"
      },
      "execution_count": null,
      "outputs": []
    },
    {
      "cell_type": "markdown",
      "source": [
        "# Problema 1\n",
        "  Encontre o número total de crimes registrados na tabela CRIME."
      ],
      "metadata": {
        "id": "b21xw7yHj6IM"
      }
    },
    {
      "cell_type": "code",
      "source": [
        "%%sql\n",
        "SELECT COUNT(id) as total_number_of_crimes FROM CHICAGOCRIMEDATA"
      ],
      "metadata": {
        "id": "sdO68zZgjZWJ"
      },
      "execution_count": null,
      "outputs": []
    },
    {
      "cell_type": "markdown",
      "source": [
        "# Problema 2\n",
        "Liste as áreas da comunidade com renda per capita inferior a 11.000."
      ],
      "metadata": {
        "id": "Y3cKYyV7kRZr"
      }
    },
    {
      "cell_type": "code",
      "source": [
        "%%sql\n",
        "\n",
        "SELECT community_area_name \n",
        "FROM CHICAGOCENSUSDATA\n",
        "WHERE per_capita_income < 11000"
      ],
      "metadata": {
        "id": "GXOpzamIkYSt"
      },
      "execution_count": null,
      "outputs": []
    },
    {
      "cell_type": "markdown",
      "source": [
        "# Problema 3\n",
        "Liste todos os números de casos de crimes envolvendo menores? (crianças não são consideradas menores para fins de análise criminal)"
      ],
      "metadata": {
        "id": "cJ5YQXY-kdg0"
      }
    },
    {
      "cell_type": "code",
      "source": [
        "%%sql\n",
        "\n",
        "Select case_number, description FROM CHICAGOCRIMEDATA\n",
        "WHERE description LIKE '%CHILD%'"
      ],
      "metadata": {
        "id": "vS2UFujfklYe"
      },
      "execution_count": null,
      "outputs": []
    },
    {
      "cell_type": "markdown",
      "source": [
        "# Problema 4\n",
        "Liste todos os crimes de sequestro envolvendo uma criança."
      ],
      "metadata": {
        "id": "MqjY4YZZksGm"
      }
    },
    {
      "cell_type": "code",
      "source": [
        "%%sql\n",
        "\n",
        "Select * FROM CHICAGOCRIMEDATA\n",
        "WHERE primary_type = 'KIDNAPPING'"
      ],
      "metadata": {
        "id": "vlXEIVVNkxqA"
      },
      "execution_count": null,
      "outputs": []
    },
    {
      "cell_type": "markdown",
      "source": [
        "# Problema 5\n",
        "Que tipos de crimes foram registrados nas escolas?"
      ],
      "metadata": {
        "id": "UhIcrxDAk5YT"
      }
    },
    {
      "cell_type": "code",
      "source": [
        "%%sql\n",
        "\n",
        "Selecione primário_tipo, descrição, localização_descrição DE CHICAGOCRIMEDATA\n",
        "WHERE localização_descrição LIKE '%ESCOLA%"
      ],
      "metadata": {
        "id": "-BgeVhtHlD44"
      },
      "execution_count": null,
      "outputs": []
    },
    {
      "cell_type": "markdown",
      "source": [
        "# Problema 6\n",
        "Liste a pontuação média de segurança para cada tipo de escola."
      ],
      "metadata": {
        "id": "fXYSa6aTlNLk"
      }
    },
    {
      "cell_type": "code",
      "source": [
        "%%sql\n",
        "\n",
        "SELECT \"Elementary, Middle, or High School\", AVG(safety_score) as average_safety_score \n",
        "FROM CHINCAGOPUBLICSCHOOLS\n",
        "GROUP BY \"Elementary, Middle, or High School\";"
      ],
      "metadata": {
        "id": "pthKqg6clNng"
      },
      "execution_count": null,
      "outputs": []
    },
    {
      "cell_type": "markdown",
      "source": [
        "# Problema 7\n",
        "Liste 5 áreas comunitárias com a maior porcentagem de domicílios abaixo da linha de pobreza."
      ],
      "metadata": {
        "id": "PDAMFH7AlcKW"
      }
    },
    {
      "cell_type": "code",
      "source": [
        "%%sql\n",
        "\n",
        "SELECT community_area_name, percent_households_below_poverty \n",
        "FROM CHICAGOCENSUSDATA\n",
        "ORDER BY percent_households_below_poverty DESC\n",
        "LIMIT 5;"
      ],
      "metadata": {
        "id": "O3yMS5dylcev"
      },
      "execution_count": null,
      "outputs": []
    },
    {
      "cell_type": "markdown",
      "source": [
        "# Problema 8\n",
        "Qual área da comunidade é mais propensa ao crime?"
      ],
      "metadata": {
        "id": "mt_VaD4aloAs"
      }
    },
    {
      "cell_type": "code",
      "source": [
        "%%sql\n",
        "\n",
        "SELECT community_area_number, COUNT(community_area_number) as crime_events \n",
        "FROM CHICAGOCRIMEDATA\n",
        "GROUP BY community_area_number\n",
        "ORDER BY crime_events DESC\n",
        "LIMIT 1"
      ],
      "metadata": {
        "id": "cmY8NsDnloZ2"
      },
      "execution_count": null,
      "outputs": []
    },
    {
      "cell_type": "markdown",
      "source": [
        "# Problema 9\n",
        "Use uma subconsulta para encontrar o nome da área da comunidade com o maior índice de dificuldades."
      ],
      "metadata": {
        "id": "0-NNipjqlyqz"
      }
    },
    {
      "cell_type": "code",
      "source": [
        "%%sql\n",
        "\n",
        "SELECT community_area_name\n",
        "FROM CHICAGOCENSUSDATA\n",
        "WHERE hardship_index = (SELECT MAX(hardship_index) FROM CHICAGOCENSUSDATA)"
      ],
      "metadata": {
        "id": "KFlUcKjnlzLz"
      },
      "execution_count": null,
      "outputs": []
    },
    {
      "cell_type": "markdown",
      "source": [
        "# Problema 10\n",
        "Usar uma subconsulta para determinar o nome da área da comunidade com o maior número de crimes?"
      ],
      "metadata": {
        "id": "mOjtUBpCmK9h"
      }
    },
    {
      "cell_type": "code",
      "source": [
        "%%sql\n",
        "\n",
        "SELECT CHICAGOCENSUSDATA.community_area_name \n",
        "FROM CHICAGOCRIMEDATA \n",
        "LEFT JOIN CHICAGOCENSUSDATA\n",
        "    ON CHICAGOCRIMEDATA.community_area_number = CHICAGOCENSUSDATA.community_area_number\n",
        "WHERE CHICAGOCENSUSDATA.community_area_number IN (SELECT community_area_number\n",
        "    FROM CHICAGOCRIMEDATA \n",
        "    GROUP BY community_area_number\n",
        "    HAVING COUNT(community_area_number)\n",
        "    ORDER BY COUNT(community_area_number) DESC\n",
        "    LIMIT 1)\n",
        "GROUP BY CHICAGOCENSUSDATA.community_area_name"
      ],
      "metadata": {
        "id": "15eN7tfImLwa"
      },
      "execution_count": null,
      "outputs": []
    }
  ]
}